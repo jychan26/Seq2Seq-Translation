{
  "cells": [
    {
      "cell_type": "markdown",
      "metadata": {
        "id": "51EzNwpqoy7q"
      },
      "source": [
        "# Download Data"
      ]
    },
    {
      "cell_type": "code",
      "execution_count": 1,
      "metadata": {
        "id": "7MN0c-pLhDMY"
      },
      "outputs": [],
      "source": [
        "from __future__ import unicode_literals, print_function, division\n",
        "from io import open\n",
        "import unicodedata\n",
        "import string\n",
        "import re\n",
        "import random\n",
        "import math\n",
        "\n",
        "import torch\n",
        "import torch.nn as nn\n",
        "from torch import optim\n",
        "import torch.nn.functional as F\n",
        "\n",
        "device = torch.device(\"cuda\" if torch.cuda.is_available() else \"cpu\")"
      ]
    },
    {
      "cell_type": "code",
      "execution_count": 2,
      "metadata": {
        "colab": {
          "base_uri": "https://localhost:8080/"
        },
        "id": "qwhxBOK4oxLT",
        "outputId": "433d779b-da48-428f-83ca-f93070047e39"
      },
      "outputs": [
        {
          "output_type": "stream",
          "name": "stdout",
          "text": [
            "--2023-03-20 02:29:53--  https://download.pytorch.org/tutorial/data.zip\n",
            "Resolving download.pytorch.org (download.pytorch.org)... 99.86.38.72, 99.86.38.96, 99.86.38.106, ...\n",
            "Connecting to download.pytorch.org (download.pytorch.org)|99.86.38.72|:443... connected.\n",
            "HTTP request sent, awaiting response... 200 OK\n",
            "Length: 2882130 (2.7M) [application/zip]\n",
            "Saving to: ‘data.zip’\n",
            "\n",
            "data.zip            100%[===================>]   2.75M  --.-KB/s    in 0.05s   \n",
            "\n",
            "2023-03-20 02:29:54 (52.7 MB/s) - ‘data.zip’ saved [2882130/2882130]\n",
            "\n",
            "Archive:  data.zip\n",
            "   creating: data/\n",
            "  inflating: data/eng-fra.txt        \n",
            "   creating: data/names/\n",
            "  inflating: data/names/Arabic.txt   \n",
            "  inflating: data/names/Chinese.txt  \n",
            "  inflating: data/names/Czech.txt    \n",
            "  inflating: data/names/Dutch.txt    \n",
            "  inflating: data/names/English.txt  \n",
            "  inflating: data/names/French.txt   \n",
            "  inflating: data/names/German.txt   \n",
            "  inflating: data/names/Greek.txt    \n",
            "  inflating: data/names/Irish.txt    \n",
            "  inflating: data/names/Italian.txt  \n",
            "  inflating: data/names/Japanese.txt  \n",
            "  inflating: data/names/Korean.txt   \n",
            "  inflating: data/names/Polish.txt   \n",
            "  inflating: data/names/Portuguese.txt  \n",
            "  inflating: data/names/Russian.txt  \n",
            "  inflating: data/names/Scottish.txt  \n",
            "  inflating: data/names/Spanish.txt  \n",
            "  inflating: data/names/Vietnamese.txt  \n",
            "data  data.zip\tsample_data\n"
          ]
        }
      ],
      "source": [
        "!wget https://download.pytorch.org/tutorial/data.zip\n",
        "!unzip data.zip\n",
        "!ls"
      ]
    },
    {
      "cell_type": "code",
      "execution_count": 3,
      "metadata": {
        "id": "C6h4gfwihDMT"
      },
      "outputs": [],
      "source": [
        "%matplotlib inline"
      ]
    },
    {
      "cell_type": "markdown",
      "metadata": {
        "id": "tAUfn-0SEzS_"
      },
      "source": [
        "# Classes & Helper Functions"
      ]
    },
    {
      "cell_type": "markdown",
      "source": [
        "## Load Data Files"
      ],
      "metadata": {
        "id": "6smhWWrOtGzo"
      }
    },
    {
      "cell_type": "markdown",
      "metadata": {
        "id": "yw8E1RlnhDMc"
      },
      "source": [
        "We'll need a unique index per word to use as the inputs and targets of\n",
        "the networks later. To keep track of all this we will use a helper class\n",
        "called ``Lang`` which has word → index (``word2index``) and index → word\n",
        "(``index2word``) dictionaries, as well as a count of each word\n",
        "``word2count`` to use to later replace rare words.\n",
        "\n",
        "\n"
      ]
    },
    {
      "cell_type": "code",
      "execution_count": 4,
      "metadata": {
        "id": "-DKtR_tRhDMd"
      },
      "outputs": [],
      "source": [
        "SOS_token = 0\n",
        "EOS_token = 1\n",
        "\n",
        "class Lang:\n",
        "    def __init__(self, name):\n",
        "        self.name = name\n",
        "        self.word2index = {}\n",
        "        self.word2count = {}\n",
        "        self.index2word = {0: \"SOS\", 1: \"EOS\"}\n",
        "        self.n_words = 2  # Count SOS, EOS\n",
        "\n",
        "    def addSentence(self, sentence):\n",
        "        for word in sentence.split(' '):\n",
        "            self.addWord(word)\n",
        "\n",
        "    def addWord(self, word):\n",
        "        if word not in self.word2index:\n",
        "            self.word2index[word] = self.n_words\n",
        "            self.word2count[word] = 1\n",
        "            self.index2word[self.n_words] = word\n",
        "            self.n_words += 1\n",
        "        else:\n",
        "            self.word2count[word] += 1"
      ]
    },
    {
      "cell_type": "markdown",
      "metadata": {
        "id": "v2xag2jjhDMf"
      },
      "source": [
        "The files are all in Unicode, to simplify we will turn Unicode\n",
        "characters to ASCII, make everything lowercase, and trim most\n",
        "punctuation.\n",
        "\n",
        "\n"
      ]
    },
    {
      "cell_type": "code",
      "execution_count": 5,
      "metadata": {
        "id": "43G0EWaBhDMf"
      },
      "outputs": [],
      "source": [
        "# Turn a Unicode string to plain ASCII, thanks to\n",
        "# http://stackoverflow.com/a/518232/2809427\n",
        "def unicodeToAscii(s):\n",
        "    return ''.join(\n",
        "        c for c in unicodedata.normalize('NFD', s)\n",
        "        if unicodedata.category(c) != 'Mn'\n",
        "    )\n",
        "\n",
        "# Lowercase, trim, and remove non-letter characters\n",
        "\n",
        "\n",
        "def normalizeString(s):\n",
        "    s = unicodeToAscii(s.lower().strip())\n",
        "    s = re.sub(r\"([.!?])\", r\" \\1\", s)\n",
        "    s = re.sub(r\"[^a-zA-Z.!?]+\", r\" \", s)\n",
        "    return s"
      ]
    },
    {
      "cell_type": "markdown",
      "metadata": {
        "id": "XozJcgJwhDMh"
      },
      "source": [
        "To read the data file we will split the file into lines, and then split\n",
        "lines into pairs. The files are all English → Other Language, so if we\n",
        "want to translate from Other Language → English I added the ``reverse``\n",
        "flag to reverse the pairs.\n",
        "\n",
        "\n"
      ]
    },
    {
      "cell_type": "code",
      "execution_count": 6,
      "metadata": {
        "id": "G8eDk834hDMi"
      },
      "outputs": [],
      "source": [
        "def readLangs(lang1, lang2, reverse=False):\n",
        "    print(\"Reading lines...\")\n",
        "\n",
        "    # Read the file and split into lines\n",
        "    lines = open('data/%s-%s.txt' % (lang1, lang2), encoding='utf-8').\\\n",
        "        read().strip().split('\\n')\n",
        "\n",
        "    # Split every line into pairs and normalize\n",
        "    pairs = [[normalizeString(s) for s in l.split('\\t')] for l in lines]\n",
        "\n",
        "    # Reverse pairs, make Lang instances\n",
        "    if reverse:\n",
        "        pairs = [list(reversed(p)) for p in pairs]\n",
        "        input_lang = Lang(lang2)\n",
        "        output_lang = Lang(lang1)\n",
        "    else:\n",
        "        input_lang = Lang(lang1)\n",
        "        output_lang = Lang(lang2)\n",
        "\n",
        "    return input_lang, output_lang, pairs"
      ]
    },
    {
      "cell_type": "markdown",
      "metadata": {
        "id": "hLaV8dQGhDMk"
      },
      "source": [
        "Since there are a *lot* of example sentences and we want to train\n",
        "something quickly, we'll trim the data set to only relatively short and\n",
        "simple sentences. Here the maximum length is 5 words (that includes\n",
        "ending punctuation) and we're filtering to sentences that translate to\n",
        "the form \"I am\" or \"He is\" etc. (accounting for apostrophes replaced\n",
        "earlier).\n",
        "\n",
        "\n"
      ]
    },
    {
      "cell_type": "code",
      "execution_count": 7,
      "metadata": {
        "id": "7--Q6nG9hDMl"
      },
      "outputs": [],
      "source": [
        "eng_prefixes = (\n",
        "    \"i am \", \"i m \",\n",
        "    \"he is\", \"he s \",\n",
        "    \"she is\", \"she s\",\n",
        "    \"you are\", \"you re \",\n",
        "    \"we are\", \"we re \",\n",
        "    \"they are\", \"they re \"\n",
        ")\n",
        "\n",
        "\n",
        "def filterPair(p, max_length):\n",
        "    return len(p[0].split(' ')) < max_length and \\\n",
        "        len(p[1].split(' ')) < max_length and \\\n",
        "        p[1].startswith(eng_prefixes)\n",
        "\n",
        "\n",
        "def filterPairs(pairs, max_length):\n",
        "    return [pair for pair in pairs if filterPair(pair, max_length)]"
      ]
    },
    {
      "cell_type": "markdown",
      "metadata": {
        "id": "99B4-TpShDMn"
      },
      "source": [
        "The full process for preparing the data is:\n",
        "\n",
        "-  Read text file and split into lines, split lines into pairs\n",
        "-  Normalize text, filter by length and content\n",
        "-  Make word lists from sentences in pairs\n",
        "\n",
        "\n"
      ]
    },
    {
      "cell_type": "code",
      "execution_count": 8,
      "metadata": {
        "id": "QT8_6RLphDMn"
      },
      "outputs": [],
      "source": [
        "def prepareData(lang1, lang2, max_length, reverse=False):\n",
        "    input_lang, output_lang, pairs = readLangs(lang1, lang2, reverse)\n",
        "    print(\"Read %s sentence pairs\" % len(pairs))\n",
        "    pairs = filterPairs(pairs, max_length)\n",
        "    print(\"Trimmed to %s sentence pairs\" % len(pairs))\n",
        "    print(\"Counting words...\")\n",
        "    for pair in pairs:\n",
        "        input_lang.addSentence(pair[0])\n",
        "        output_lang.addSentence(pair[1])\n",
        "    print(\"Counted words:\")\n",
        "    print(input_lang.name, input_lang.n_words)\n",
        "    print(output_lang.name, output_lang.n_words)\n",
        "    return input_lang, output_lang, pairs"
      ]
    },
    {
      "cell_type": "markdown",
      "metadata": {
        "id": "r-xx4c_ShDMt"
      },
      "source": [
        "## The Seq2Seq Model\n",
        "=================\n",
        "\n",
        "A Recurrent Neural Network, or RNN, is a network that operates on a\n",
        "sequence and uses its own output as input for subsequent steps.\n",
        "\n",
        "A `Sequence to Sequence network <http://arxiv.org/abs/1409.3215>`__, or\n",
        "seq2seq network, or `Encoder Decoder\n",
        "network <https://arxiv.org/pdf/1406.1078v3.pdf>`__, is a model\n",
        "consisting of two RNNs called the encoder and decoder. The encoder reads\n",
        "an input sequence and outputs a single vector, and the decoder reads\n",
        "that vector to produce an output sequence.\n",
        "\n",
        ".. figure:: /_static/img/seq-seq-images/seq2seq.png\n",
        "   :alt:\n",
        "\n",
        "Unlike sequence prediction with a single RNN, where every input\n",
        "corresponds to an output, the seq2seq model frees us from sequence\n",
        "length and order, which makes it ideal for translation between two\n",
        "languages.\n",
        "\n",
        "Consider the sentence \"Je ne suis pas le chat noir\" → \"I am not the\n",
        "black cat\". Most of the words in the input sentence have a direct\n",
        "translation in the output sentence, but are in slightly different\n",
        "orders, e.g. \"chat noir\" and \"black cat\". Because of the \"ne/pas\"\n",
        "construction there is also one more word in the input sentence. It would\n",
        "be difficult to produce a correct translation directly from the sequence\n",
        "of input words.\n",
        "\n",
        "With a seq2seq model the encoder creates a single vector which, in the\n",
        "ideal case, encodes the \"meaning\" of the input sequence into a single\n",
        "vector — a single point in some N dimensional space of sentences.\n",
        "\n",
        "\n"
      ]
    },
    {
      "cell_type": "markdown",
      "metadata": {
        "id": "4lTkjhaohDMu"
      },
      "source": [
        "### The Encoder\n",
        "-----------\n",
        "\n",
        "The encoder of a seq2seq network is a RNN that outputs some value for\n",
        "every word from the input sentence. For every input word the encoder\n",
        "outputs a vector and a hidden state, and uses the hidden state for the\n",
        "next input word.\n",
        "\n",
        ".. figure:: /_static/img/seq-seq-images/encoder-network.png\n",
        "   :alt:\n",
        "\n",
        "\n",
        "\n"
      ]
    },
    {
      "cell_type": "code",
      "execution_count": 9,
      "metadata": {
        "id": "o44Q1c3ohDMv"
      },
      "outputs": [],
      "source": [
        "class EncoderRNN(nn.Module):\n",
        "    def __init__(self, input_size, hidden_size):\n",
        "        super(EncoderRNN, self).__init__()\n",
        "        self.hidden_size = hidden_size\n",
        "\n",
        "        self.embedding = nn.Embedding(input_size, hidden_size)\n",
        "        self.gru = nn.GRU(hidden_size, hidden_size)\n",
        "\n",
        "    def forward(self, input, hidden):\n",
        "        embedded = self.embedding(input).view(1, 1, -1)\n",
        "        output = embedded\n",
        "        output, hidden = self.gru(output, hidden)\n",
        "        return output, hidden\n",
        "\n",
        "    def initHidden(self):\n",
        "        return torch.zeros(1, 1, self.hidden_size, device=device)"
      ]
    },
    {
      "cell_type": "markdown",
      "metadata": {
        "id": "oCaHW2x6hDMx"
      },
      "source": [
        "### The Decoder\n",
        "-----------\n",
        "\n",
        "The decoder is another RNN that takes the encoder output vector(s) and\n",
        "outputs a sequence of words to create the translation.\n",
        "\n",
        "\n"
      ]
    },
    {
      "cell_type": "markdown",
      "metadata": {
        "id": "S4XKbKGehDMy"
      },
      "source": [
        "#### Simple Decoder\n",
        "\n",
        "In the simplest seq2seq decoder we use only last output of the encoder.\n",
        "This last output is sometimes called the *context vector* as it encodes\n",
        "context from the entire sequence. This context vector is used as the\n",
        "initial hidden state of the decoder.\n",
        "\n",
        "At every step of decoding, the decoder is given an input token and\n",
        "hidden state. The initial input token is the start-of-string ``<SOS>``\n",
        "token, and the first hidden state is the context vector (the encoder's\n",
        "last hidden state).\n",
        "\n",
        ".. figure:: /_static/img/seq-seq-images/decoder-network.png\n",
        "   :alt:\n",
        "\n",
        "\n",
        "\n"
      ]
    },
    {
      "cell_type": "code",
      "execution_count": 10,
      "metadata": {
        "id": "ldlVOYhchDMy"
      },
      "outputs": [],
      "source": [
        "class DecoderRNN(nn.Module):\n",
        "    def __init__(self, hidden_size, output_size):\n",
        "        super(DecoderRNN, self).__init__()\n",
        "        self.hidden_size = hidden_size\n",
        "\n",
        "        self.embedding = nn.Embedding(output_size, hidden_size)\n",
        "        self.gru = nn.GRU(hidden_size, hidden_size)\n",
        "        self.out = nn.Linear(hidden_size, output_size)\n",
        "        self.softmax = nn.LogSoftmax(dim=1)\n",
        "\n",
        "    def forward(self, input, hidden):\n",
        "        output = self.embedding(input).view(1, 1, -1)\n",
        "        output = F.relu(output)\n",
        "        output, hidden = self.gru(output, hidden)\n",
        "        output = self.softmax(self.out(output[0]))\n",
        "        return output, hidden\n",
        "\n",
        "    def initHidden(self):\n",
        "        return torch.zeros(1, 1, self.hidden_size, device=device)"
      ]
    },
    {
      "cell_type": "markdown",
      "metadata": {
        "id": "lX06fjqNhDM3"
      },
      "source": [
        "#### Attention Decoder\n",
        "\n",
        "If only the context vector is passed betweeen the encoder and decoder,\n",
        "that single vector carries the burden of encoding the entire sentence.\n",
        "\n",
        "Attention allows the decoder network to \"focus\" on a different part of\n",
        "the encoder's outputs for every step of the decoder's own outputs. First\n",
        "we calculate a set of *attention weights*. These will be multiplied by\n",
        "the encoder output vectors to create a weighted combination. The result\n",
        "(called ``attn_applied`` in the code) should contain information about\n",
        "that specific part of the input sequence, and thus help the decoder\n",
        "choose the right output words.\n",
        "\n",
        ".. figure:: https://i.imgur.com/1152PYf.png\n",
        "   :alt:\n",
        "\n",
        "Calculating the attention weights is done with another feed-forward\n",
        "layer ``attn``, using the decoder's input and hidden state as inputs.\n",
        "Because there are sentences of all sizes in the training data, to\n",
        "actually create and train this layer we have to choose a maximum\n",
        "sentence length (input length, for encoder outputs) that it can apply\n",
        "to. Sentences of the maximum length will use all the attention weights,\n",
        "while shorter sentences will only use the first few.\n",
        "\n",
        ".. figure:: /_static/img/seq-seq-images/attention-decoder-network.png\n",
        "   :alt:\n",
        "\n",
        "\n",
        "\n"
      ]
    },
    {
      "cell_type": "code",
      "execution_count": 11,
      "metadata": {
        "id": "sbIyVP9qhDM3"
      },
      "outputs": [],
      "source": [
        "class AttnDecoderRNN(nn.Module):\n",
        "    def __init__(self, hidden_size, output_size, max_length, dropout_p=0.1):\n",
        "        super(AttnDecoderRNN, self).__init__()\n",
        "        self.hidden_size = hidden_size\n",
        "        self.output_size = output_size\n",
        "        self.dropout_p = dropout_p\n",
        "        self.max_length = max_length\n",
        "\n",
        "        self.embedding = nn.Embedding(self.output_size, self.hidden_size)\n",
        "        self.attn = nn.Linear(self.hidden_size * 2, self.max_length)\n",
        "        self.attn_combine = nn.Linear(self.hidden_size * 2, self.hidden_size)\n",
        "        self.dropout = nn.Dropout(self.dropout_p)\n",
        "        self.gru = nn.GRU(self.hidden_size, self.hidden_size)\n",
        "        self.out = nn.Linear(self.hidden_size, self.output_size)\n",
        "\n",
        "    def forward(self, input, hidden, encoder_outputs):\n",
        "        embedded = self.embedding(input).view(1, 1, -1)\n",
        "        embedded = self.dropout(embedded)\n",
        "\n",
        "        attn_weights = F.softmax(\n",
        "            self.attn(torch.cat((embedded[0], hidden[0]), 1)), dim=1)\n",
        "        attn_applied = torch.bmm(attn_weights.unsqueeze(0),\n",
        "                                 encoder_outputs.unsqueeze(0))\n",
        "\n",
        "        output = torch.cat((embedded[0], attn_applied[0]), 1)\n",
        "        output = self.attn_combine(output).unsqueeze(0)\n",
        "\n",
        "        output = F.relu(output)\n",
        "        output, hidden = self.gru(output, hidden)\n",
        "\n",
        "        output = F.log_softmax(self.out(output[0]), dim=1)\n",
        "        return output, hidden, attn_weights\n",
        "\n",
        "    def initHidden(self):\n",
        "        return torch.zeros(1, 1, self.hidden_size, device=device)"
      ]
    },
    {
      "cell_type": "markdown",
      "source": [
        "<div class=\"alert alert-info\"><h4>Note</h4><p>There are other forms of attention that work around the length\n",
        "  limitation by using a relative position approach. Read about \"local\n",
        "  attention\" in `Effective Approaches to Attention-based Neural Machine\n",
        "  Translation <https://arxiv.org/abs/1508.04025>`__.</p></div>"
      ],
      "metadata": {
        "id": "OzpM_j6CWFWU"
      }
    },
    {
      "cell_type": "markdown",
      "source": [
        "## Transformer\n",
        "\n",
        "Note this is based on [this tutorial](https://pytorch.org/tutorials/beginner/translation_transformer.html)."
      ],
      "metadata": {
        "id": "jB9ZtARekmgG"
      }
    },
    {
      "cell_type": "code",
      "source": [
        "# modified for transformer - DONE\n",
        "from torch import Tensor\n",
        "from torch.nn import Transformer\n",
        "\n",
        "# helper Module that adds positional encoding to the token embedding to introduce a notion of word order.\n",
        "class PositionalEncoding(nn.Module):\n",
        "    def __init__(self,\n",
        "                 emb_size: int,\n",
        "                 maxlen: int,\n",
        "                 dropout: float = 0.0 # default: no dropout\n",
        "                 ):\n",
        "        super(PositionalEncoding, self).__init__()\n",
        "        den = torch.exp(- torch.arange(0, emb_size, 2)* math.log(10000) / emb_size)\n",
        "        pos = torch.arange(0, maxlen).reshape(maxlen, 1)\n",
        "        pos_embedding = torch.zeros((maxlen, emb_size))\n",
        "        pos_embedding[:, 0::2] = torch.sin(pos * den)\n",
        "        pos_embedding[:, 1::2] = torch.cos(pos * den)\n",
        "        pos_embedding = pos_embedding.unsqueeze(-2)\n",
        "\n",
        "        self.dropout = nn.Dropout(dropout)\n",
        "        self.register_buffer('pos_embedding', pos_embedding)\n",
        "\n",
        "    def forward(self, token_embedding: Tensor):\n",
        "        return self.dropout(token_embedding + self.pos_embedding[:token_embedding.size(0), :])\n",
        "\n",
        "# helper Module to convert tensor of input indices into corresponding tensor of token embeddings\n",
        "class TokenEmbedding(nn.Module):\n",
        "    def __init__(self, vocab_size: int, emb_size):\n",
        "        super(TokenEmbedding, self).__init__()\n",
        "        self.embedding = nn.Embedding(vocab_size, emb_size)\n",
        "        self.emb_size = emb_size\n",
        "\n",
        "    def forward(self, tokens: Tensor):\n",
        "        return self.embedding(tokens.long()) * math.sqrt(self.emb_size)\n",
        "\n",
        "# Seq2Seq Network\n",
        "class Seq2SeqTransformer(nn.Module):\n",
        "    def __init__(self,\n",
        "                 src_vocab_size: int,\n",
        "                 tgt_vocab_size: int,\n",
        "                 maxlen: int,\n",
        "                 num_encoder_layers: int = 6,\n",
        "                 num_decoder_layers: int = 6,\n",
        "                 nhead: int = 8,\n",
        "                 emb_size: int = 32,\n",
        "                 dim_feedforward: int = 512,\n",
        "                 dropout: float = 0.1):\n",
        "        super(Seq2SeqTransformer, self).__init__()\n",
        "        self.transformer = Transformer(d_model=emb_size,\n",
        "                                       nhead=nhead,\n",
        "                                       num_encoder_layers=num_encoder_layers,\n",
        "                                       num_decoder_layers=num_decoder_layers,\n",
        "                                       dim_feedforward=dim_feedforward,\n",
        "                                       dropout=dropout)\n",
        "        self.generator = nn.Linear(emb_size, tgt_vocab_size)\n",
        "        self.src_tok_emb = TokenEmbedding(src_vocab_size, emb_size)\n",
        "        self.tgt_tok_emb = TokenEmbedding(tgt_vocab_size, emb_size)\n",
        "        self.positional_encoding = PositionalEncoding(\n",
        "            emb_size, dropout=dropout, maxlen=maxlen)\n",
        "        self.softmax = nn.LogSoftmax(dim=1) # apply later in train, eval function\n",
        "\n",
        "    # this class was originally written to make use of CrossEntropyLoss, will apply softmax later in train/eval\n",
        "    def forward(self,\n",
        "                src: Tensor,\n",
        "                trg: Tensor,\n",
        "                src_mask: Tensor,\n",
        "                tgt_mask: Tensor):\n",
        "        src_emb = self.positional_encoding(self.src_tok_emb(src))\n",
        "        tgt_emb = self.positional_encoding(self.tgt_tok_emb(trg))\n",
        "        outs = self.transformer(src_emb, tgt_emb, src_mask, tgt_mask, None)\n",
        "        outs = self.generator(outs)\n",
        "        return outs \n",
        "\n",
        "    def encode(self, src: Tensor, src_mask: Tensor):\n",
        "        return self.transformer.encoder(self.positional_encoding(self.src_tok_emb(src)), src_mask)\n",
        "\n",
        "    def decode(self, tgt: Tensor, memory: Tensor, tgt_mask: Tensor):\n",
        "        return self.transformer.decoder(self.positional_encoding(self.tgt_tok_emb(tgt)), memory, tgt_mask)"
      ],
      "metadata": {
        "id": "kGm0rNb9l_Wk"
      },
      "execution_count": 12,
      "outputs": []
    },
    {
      "cell_type": "code",
      "source": [
        "# modified for transformer - DONE\n",
        "def generate_square_subsequent_mask(sz):\n",
        "    mask = (torch.triu(torch.ones((sz, sz), device=device)) == 1).transpose(0, 1)\n",
        "    mask = mask.float().masked_fill(mask == 0, float('-inf')).masked_fill(mask == 1, float(0.0))\n",
        "    return mask\n",
        "\n",
        "# no need for padding\n",
        "# src_mask is just a an additive mask of 0s, so no effect to the model itself\n",
        "def create_mask(src, tgt):\n",
        "    src_seq_len = src.shape[0]\n",
        "    tgt_seq_len = tgt.shape[0]\n",
        "\n",
        "    tgt_mask = generate_square_subsequent_mask(tgt_seq_len)\n",
        "    src_mask = torch.zeros((src_seq_len, src_seq_len),device=device).type(torch.bool)\n",
        "\n",
        "    return src_mask, tgt_mask"
      ],
      "metadata": {
        "id": "mjR2bxBql_y3"
      },
      "execution_count": 13,
      "outputs": []
    },
    {
      "cell_type": "markdown",
      "metadata": {
        "id": "zkM1dJrUhDM6"
      },
      "source": [
        "## Training\n",
        "========\n",
        "\n",
        "### Preparing Training Data\n",
        "-----------------------\n",
        "\n",
        "To train, for each pair we will need an input tensor (indexes of the\n",
        "words in the input sentence) and target tensor (indexes of the words in\n",
        "the target sentence). While creating these vectors we will append the\n",
        "EOS token to both sequences.\n",
        "\n",
        "\n"
      ]
    },
    {
      "cell_type": "code",
      "execution_count": 14,
      "metadata": {
        "id": "S5RDY2wihDM7"
      },
      "outputs": [],
      "source": [
        "def indexesFromSentence(lang, sentence):\n",
        "    return [lang.word2index[word] for word in sentence.split(' ')]\n",
        "\n",
        "\n",
        "def tensorFromSentence(lang, sentence):\n",
        "    indexes = indexesFromSentence(lang, sentence)\n",
        "    indexes.append(EOS_token)\n",
        "    return torch.tensor(indexes, dtype=torch.long, device=device).view(-1, 1)\n",
        "\n",
        "\n",
        "def tensorsFromPair(pair, input_lang, output_lang):\n",
        "    input_tensor = tensorFromSentence(input_lang, pair[0])\n",
        "    target_tensor = tensorFromSentence(output_lang, pair[1])\n",
        "    return (input_tensor, target_tensor)"
      ]
    },
    {
      "cell_type": "markdown",
      "metadata": {
        "id": "DqcPFEr2hDM9"
      },
      "source": [
        "### Training the Model\n",
        "------------------\n",
        "\n",
        "To train we run the input sentence through the encoder, and keep track\n",
        "of every output and the latest hidden state. Then the decoder is given\n",
        "the ``<SOS>`` token as its first input, and the last hidden state of the\n",
        "encoder as its first hidden state.\n",
        "\n",
        "\"Teacher forcing\" is the concept of using the real target outputs as\n",
        "each next input, instead of using the decoder's guess as the next input.\n",
        "Using teacher forcing causes it to converge faster but `when the trained\n",
        "network is exploited, it may exhibit\n",
        "instability <http://minds.jacobs-university.de/sites/default/files/uploads/papers/ESNTutorialRev.pdf>`__.\n",
        "\n",
        "You can observe outputs of teacher-forced networks that read with\n",
        "coherent grammar but wander far from the correct translation -\n",
        "intuitively it has learned to represent the output grammar and can \"pick\n",
        "up\" the meaning once the teacher tells it the first few words, but it\n",
        "has not properly learned how to create the sentence from the translation\n",
        "in the first place.\n",
        "\n",
        "Because of the freedom PyTorch's autograd gives us, we can randomly\n",
        "choose to use teacher forcing or not with a simple if statement. Turn\n",
        "``teacher_forcing_ratio`` up to use more of it.\n",
        "\n",
        "\n"
      ]
    },
    {
      "cell_type": "markdown",
      "metadata": {
        "id": "1MNyZJbMhDNA"
      },
      "source": [
        "This is a helper function to print time elapsed and estimated time\n",
        "remaining given the current time and progress %.\n",
        "\n",
        "\n"
      ]
    },
    {
      "cell_type": "markdown",
      "source": [
        "#### Seq2Seq"
      ],
      "metadata": {
        "id": "KuSwGbl7gI5e"
      }
    },
    {
      "cell_type": "code",
      "execution_count": 15,
      "metadata": {
        "id": "Ra-b3AjCnedL"
      },
      "outputs": [],
      "source": [
        "teacher_forcing_ratio = 0.5\n",
        "\n",
        "# modified: introduced use_attention\n",
        "def train(input_tensor, target_tensor, encoder, decoder, encoder_optimizer, decoder_optimizer, criterion, max_length, use_attention):\n",
        "    encoder_hidden = encoder.initHidden()\n",
        "\n",
        "    encoder_optimizer.zero_grad()\n",
        "    decoder_optimizer.zero_grad()\n",
        "\n",
        "    input_length = input_tensor.size(0)\n",
        "    target_length = target_tensor.size(0)\n",
        "\n",
        "    encoder_outputs = torch.zeros(max_length, encoder.hidden_size, device=device)\n",
        "\n",
        "    loss = 0\n",
        "\n",
        "    for ei in range(input_length):\n",
        "        encoder_output, encoder_hidden = encoder(\n",
        "            input_tensor[ei], encoder_hidden)\n",
        "        encoder_outputs[ei] = encoder_output[0, 0]\n",
        "\n",
        "    decoder_input = torch.tensor([[SOS_token]], device=device)\n",
        "\n",
        "    decoder_hidden = encoder_hidden\n",
        "\n",
        "    use_teacher_forcing = True if random.random() < teacher_forcing_ratio else False\n",
        "\n",
        "    if use_teacher_forcing:\n",
        "        # Teacher forcing: Feed the target as the next input\n",
        "        for di in range(target_length):\n",
        "            # modified: feed encoder_outputs if use_attention=True, else don't\n",
        "            if use_attention:\n",
        "                decoder_output, decoder_hidden, decoder_attention = decoder(\n",
        "                    decoder_input, decoder_hidden, encoder_outputs)\n",
        "            else:\n",
        "                decoder_output, decoder_hidden = decoder(\n",
        "                    decoder_input, decoder_hidden)\n",
        "            loss += criterion(decoder_output, target_tensor[di])\n",
        "            decoder_input = target_tensor[di]  # Teacher forcing\n",
        "\n",
        "    else:\n",
        "        # Without teacher forcing: use its own predictions as the next input\n",
        "        for di in range(target_length):\n",
        "            # modified: feed encoder_outputs if use_attention=True, else don't\n",
        "            if use_attention:\n",
        "                decoder_output, decoder_hidden, decoder_attention = decoder(\n",
        "                    decoder_input, decoder_hidden, encoder_outputs)\n",
        "            else:\n",
        "                decoder_output, decoder_hidden = decoder(\n",
        "                    decoder_input, decoder_hidden)\n",
        "            topv, topi = decoder_output.topk(1)\n",
        "            decoder_input = topi.squeeze().detach()  # detach from history as input\n",
        "\n",
        "            loss += criterion(decoder_output, target_tensor[di])\n",
        "            if decoder_input.item() == EOS_token:\n",
        "                break\n",
        "\n",
        "    loss.backward()\n",
        "\n",
        "    encoder_optimizer.step()\n",
        "    decoder_optimizer.step()\n",
        "\n",
        "    return loss.item() / target_length"
      ]
    },
    {
      "cell_type": "code",
      "execution_count": 16,
      "metadata": {
        "id": "u93RDnBbhDNA"
      },
      "outputs": [],
      "source": [
        "import time\n",
        "import math\n",
        "\n",
        "def timeSince(since):\n",
        "    now = time.time()\n",
        "    s = now - since\n",
        "    m = math.floor(s / 60)\n",
        "    s -= m * 60\n",
        "    return '%dm %ds' % (m, s)  \n",
        "  \n",
        "# modified: introduced use_attention\n",
        "def eval(input_tensor, target_tensor, encoder, decoder, criterion, max_length, use_attention):\n",
        "    encoder_hidden = encoder.initHidden()\n",
        "\n",
        "    input_length = input_tensor.size(0)\n",
        "    target_length = target_tensor.size(0)\n",
        "\n",
        "    encoder_outputs = torch.zeros(max_length, encoder.hidden_size, device=device)\n",
        "\n",
        "    loss = 0\n",
        "\n",
        "    for ei in range(input_length):\n",
        "        encoder_output, encoder_hidden = encoder(\n",
        "            input_tensor[ei], encoder_hidden)\n",
        "        encoder_outputs[ei] = encoder_output[0, 0]\n",
        "\n",
        "    decoder_input = torch.tensor([[SOS_token]], device=device)\n",
        "\n",
        "    decoder_hidden = encoder_hidden\n",
        "\n",
        "    # Without teacher forcing: use its own predictions as the next input\n",
        "    for di in range(target_length):\n",
        "        # modified: feed encoder_outputs if use_attention=True, else don't\n",
        "        if use_attention:\n",
        "            decoder_output, decoder_hidden, decoder_attention = decoder(\n",
        "                decoder_input, decoder_hidden, encoder_outputs)\n",
        "        else:\n",
        "            decoder_output, decoder_hidden = decoder(\n",
        "                decoder_input, decoder_hidden)\n",
        "        topv, topi = decoder_output.topk(1)\n",
        "        decoder_input = topi.squeeze().detach()  # detach from history as input\n",
        "\n",
        "        loss += criterion(decoder_output, target_tensor[di])\n",
        "        if decoder_input.item() == EOS_token:\n",
        "            break\n",
        "\n",
        "    return loss.item() / target_length\n",
        "\n",
        "# modified: introduced max_length, input_lang, output_lang, use_attention\n",
        "def eval_dataset(dataset, encoder, decoder, criterion, max_length, input_lang, output_lang, use_attention=True):\n",
        "    loss = 0\n",
        "    for pair in dataset:\n",
        "        pair_tensor = tensorsFromPair(pair, input_lang, output_lang)\n",
        "        input_tensor = pair_tensor[0]\n",
        "        target_tensor = pair_tensor[1]\n",
        "        loss += eval(input_tensor, target_tensor, encoder, decoder, criterion, use_attention=use_attention, max_length=max_length) # modified: add use_attention, max_length\n",
        "    return loss / len(dataset)\n"
      ]
    },
    {
      "cell_type": "markdown",
      "metadata": {
        "id": "0P4esNG3hDNC"
      },
      "source": [
        "The whole training process looks like this:\n",
        "\n",
        "-  Start a timer\n",
        "-  Initialize optimizers and criterion\n",
        "-  Create set of training pairs\n",
        "-  Start empty losses array for plotting\n",
        "\n",
        "Then we call ``train`` many times and occasionally print the progress (%\n",
        "of examples, time so far, estimated time) and average loss.\n",
        "\n",
        "\n"
      ]
    },
    {
      "cell_type": "code",
      "execution_count": 17,
      "metadata": {
        "id": "1iEXyXGxnrUw"
      },
      "outputs": [],
      "source": [
        "# modified: introduced train_data, validation_data, max_length, input_lang, output_lang, use_attention, saved_encoder_name, saved_decoder_name\n",
        "def trainIters(encoder, decoder, n_iters, train_data, validation_data, max_length,\n",
        "               input_lang, output_lang,\n",
        "               print_every=2000, plot_every=1000,\n",
        "               use_attention=True, saved_encoder_name='encoder_model', saved_decoder_name='decoder_model'\n",
        "               ):\n",
        "    start = time.time()\n",
        "    all_train_losses = []\n",
        "    all_validation_losses = []\n",
        "    train_loss = 0  # Reset every plot_every\n",
        "\n",
        "    encoder_optimizer = torch.optim.Adam(encoder.parameters())\n",
        "    decoder_optimizer = torch.optim.Adam(decoder.parameters())\n",
        "    training_pairs = [tensorsFromPair(random.choice(train_data), input_lang, output_lang)\n",
        "                      for i in range(n_iters)]\n",
        "    criterion = nn.NLLLoss()\n",
        "\n",
        "    print('\\nIter \\tTrain% \\tTime \\t\\tTrain_loss')\n",
        "    for iter in range(1, n_iters + 1):\n",
        "        training_pair = training_pairs[iter - 1]\n",
        "        input_tensor = training_pair[0]\n",
        "        target_tensor = training_pair[1]\n",
        "\n",
        "        # modified: add use_attention, max_length\n",
        "        loss = train(input_tensor, target_tensor, encoder,\n",
        "                     decoder, encoder_optimizer, decoder_optimizer, criterion, \n",
        "                     use_attention=use_attention, max_length=max_length)\n",
        "        train_loss += loss\n",
        "\n",
        "        if iter % print_every == 0:\n",
        "            print('%d \\t%d%% \\t(%s) \\t%.4f' % (iter, iter / n_iters * 100, timeSince(start), train_loss / plot_every))\n",
        "\n",
        "        if iter % plot_every == 0:\n",
        "            all_train_losses.append(train_loss / plot_every)\n",
        "            train_loss = 0\n",
        "            \n",
        "        # Compute loss based on validation data\n",
        "        if iter % plot_every == 0:\n",
        "            # modified: add use_attention, max_length, input_lang, output_lang\n",
        "            average_validation_loss = eval_dataset(validation_data, encoder, decoder, criterion, \n",
        "                                                   use_attention=use_attention, max_length=max_length,\n",
        "                                                   input_lang=input_lang, output_lang=output_lang)\n",
        "\n",
        "            # save model with best validation loss\n",
        "            if len(all_validation_losses) == 0 or average_validation_loss < min(all_validation_losses):\n",
        "                torch.save(encoder, '{}.pt'.format(saved_encoder_name))\n",
        "                torch.save(decoder, '{}.pt'.format(saved_decoder_name))\n",
        "            all_validation_losses.append(average_validation_loss)\n",
        "            \n",
        "    #showPlot(all_train_losses, all_validation_losses)\n",
        "    return all_train_losses, all_validation_losses"
      ]
    },
    {
      "cell_type": "markdown",
      "source": [
        "#### Transformer"
      ],
      "metadata": {
        "id": "OJdhbjlWgW3D"
      }
    },
    {
      "cell_type": "code",
      "execution_count": 18,
      "metadata": {
        "id": "e83UpqKyDbLP"
      },
      "outputs": [],
      "source": [
        "# modified for transformers - DONE\n",
        "teacher_forcing_ratio_trans = 0.5\n",
        "\n",
        "def train_trans(src, tgt, model, optimizer, criterion, max_length):\n",
        "\n",
        "    optimizer.zero_grad()\n",
        "\n",
        "    input_length = src.size(0)\n",
        "    target_length = tgt.size(0)\n",
        "\n",
        "    loss = 0\n",
        "\n",
        "    use_teacher_forcing = True if random.random() < teacher_forcing_ratio_trans else False\n",
        "\n",
        "    if use_teacher_forcing:\n",
        "        # Teacher forcing: Feed the target as the next input\n",
        "        # define tgt_input and tgt_out\n",
        "        SOS_tensor = torch.tensor([[SOS_token]], device=device)\n",
        "        tgt_with_SOS = torch.cat((SOS_tensor, tgt), dim=0) # add SOS token in front of target tensor\n",
        "        tgt_input = tgt_with_SOS[:-1, :] # exclude EOS token at the end\n",
        "        tgt_out = tgt_with_SOS[1:, :] # shift to the right by one\n",
        "\n",
        "        # create masks\n",
        "        # note src_mask is just an additive mask of 0s - no effect to the model\n",
        "        src_mask, tgt_mask = create_mask(src, tgt_input) \n",
        "\n",
        "        logits = model(src, tgt_input, src_mask, tgt_mask=tgt_mask) # get the probabilities\n",
        "\n",
        "        # compute and add the loss for each word\n",
        "        for di in range(target_length):\n",
        "            # apply model.softmax here (code was originally for CrossEntropyLoss)\n",
        "            loss += criterion(model.softmax(logits[di]), tgt_out[di])\n",
        "\n",
        "    else:\n",
        "        # Without teacher forcing: use its own predictions as the next input\n",
        "        src_mask = (torch.zeros(src.shape[0], src.shape[0])).type(torch.bool).to(device)\n",
        "        memory = model.encode(src, src_mask) # the sequence from the last layer of the encoder\n",
        "        ys = torch.ones(1, 1).fill_(SOS_token).type(torch.long).to(device) # the sequence to the decoder\n",
        "        for di in range(target_length):\n",
        "            memory = memory.to(device)\n",
        "            tgt_mask = (generate_square_subsequent_mask(ys.size(0)).type(torch.bool)).to(device)\n",
        "            \n",
        "            out = model.decode(ys, memory, tgt_mask) # decode\n",
        "            out = out.transpose(0, 1)\n",
        "            prob = model.generator(out[:, -1]) # get probability over output_lang.n_words\n",
        "            _, next_word = torch.max(prob, dim=1)\n",
        "            next_word = next_word.squeeze().detach() # detach from history as input\n",
        "            next_word = next_word.item() # get most likely word index\n",
        "\n",
        "            # apply model.softmax here (code was originally for CrossEntropyLoss)\n",
        "            loss += criterion(model.softmax(prob), tgt[di]) # compute and add the loss for each word\n",
        "\n",
        "            ys = torch.cat([ys, torch.ones(1, 1).type_as(src.data).fill_(next_word)], dim=0) # update sequence to decoder\n",
        "            if next_word == EOS_token: # check if we reached EOS\n",
        "                break\n",
        "\n",
        "    loss.backward()\n",
        "\n",
        "    optimizer.step()\n",
        "\n",
        "    # print(loss.item() / target_length)\n",
        "    return loss.item() / target_length"
      ]
    },
    {
      "cell_type": "code",
      "execution_count": 19,
      "metadata": {
        "id": "D31bwE7CgW3E"
      },
      "outputs": [],
      "source": [
        "# modified for transformers - DONE\n",
        "def eval_trans(src, tgt, model, criterion, max_length):\n",
        "\n",
        "    input_length = src.size(0)\n",
        "    target_length = tgt.size(0)\n",
        "\n",
        "    loss = 0\n",
        "\n",
        "    # Without teacher forcing: use its own predictions as the next input\n",
        "    src_mask = (torch.zeros(src.shape[0], src.shape[0])).type(torch.bool).to(device)\n",
        "    memory = model.encode(src, src_mask) # the sequence from the last layer of the encoder\n",
        "    ys = torch.ones(1, 1).fill_(SOS_token).type(torch.long).to(device) # the sequence to the decoder\n",
        "    for di in range(target_length):\n",
        "        memory = memory.to(device)\n",
        "        tgt_mask = (generate_square_subsequent_mask(ys.size(0)).type(torch.bool)).to(device)\n",
        "            \n",
        "        out = model.decode(ys, memory, tgt_mask) # decode\n",
        "        out = out.transpose(0, 1)\n",
        "        prob = model.generator(out[:, -1]) # get probability over output_lang.n_words\n",
        "        _, next_word = torch.max(prob, dim=1)\n",
        "        next_word = next_word.squeeze().detach() # detach from history as input\n",
        "        next_word = next_word.item() # get most likely word index\n",
        "\n",
        "        # apply model.softmax here (code was originally for CrossEntropyLoss)\n",
        "        loss += criterion(model.softmax(prob), tgt[di]) # compute and add the loss for each word\n",
        "        \n",
        "        ys = torch.cat([ys, torch.ones(1, 1).type_as(src.data).fill_(next_word)], dim=0) # update sequence to decoder\n",
        "        if next_word == EOS_token: # check if we reached EOS\n",
        "            break\n",
        "\n",
        "    return loss.item() / target_length\n",
        "\n",
        "# modified for transformers - DONE\n",
        "def eval_dataset_trans(dataset, model, criterion, max_length, input_lang, output_lang):\n",
        "    loss = 0\n",
        "    for pair in dataset:\n",
        "        pair_tensor = tensorsFromPair(pair, input_lang, output_lang)\n",
        "        input_tensor = pair_tensor[0]\n",
        "        target_tensor = pair_tensor[1]\n",
        "        loss += eval_trans(input_tensor, target_tensor, model, criterion, max_length=max_length) # modified: add use_attention, max_length\n",
        "    return loss / len(dataset)\n"
      ]
    },
    {
      "cell_type": "code",
      "execution_count": 20,
      "metadata": {
        "id": "7emJp9OogW3E"
      },
      "outputs": [],
      "source": [
        "# modified for transformers - DONE\n",
        "def trainIters_trans(model, n_iters, train_data, validation_data, max_length,\n",
        "               input_lang, output_lang,\n",
        "               print_every=2000, plot_every=1000,\n",
        "               saved_model_name='model1'\n",
        "               ):\n",
        "    start = time.time()\n",
        "    all_train_losses = []\n",
        "    all_validation_losses = []\n",
        "    train_loss = 0  # Reset every plot_every\n",
        "\n",
        "    optimizer = torch.optim.Adam(model.parameters())\n",
        "    training_pairs = [tensorsFromPair(random.choice(train_data), input_lang, output_lang)\n",
        "                      for i in range(n_iters)]\n",
        "    criterion = nn.NLLLoss()\n",
        "\n",
        "    print('\\nIter \\tTrain% \\tTime \\t\\tTrain_loss')\n",
        "    for iter in range(1, n_iters + 1):\n",
        "        training_pair = training_pairs[iter - 1]\n",
        "        input_tensor = training_pair[0]\n",
        "        target_tensor = training_pair[1]\n",
        "\n",
        "        loss = train_trans(input_tensor, target_tensor, model, optimizer, criterion, max_length=max_length)\n",
        "        train_loss += loss\n",
        "\n",
        "        if iter % print_every == 0:\n",
        "            print('%d \\t%d%% \\t(%s) \\t%.4f' % (iter, iter / n_iters * 100, timeSince(start), train_loss / plot_every))\n",
        "\n",
        "        if iter % plot_every == 0:\n",
        "            all_train_losses.append(train_loss / plot_every)\n",
        "            train_loss = 0\n",
        "            \n",
        "        # Compute loss based on validation data\n",
        "        if iter % plot_every == 0:\n",
        "            average_validation_loss = eval_dataset_trans(validation_data, model, criterion, \n",
        "                                                   max_length=max_length,\n",
        "                                                   input_lang=input_lang, output_lang=output_lang)\n",
        "\n",
        "            # save model with best validation loss\n",
        "            if len(all_validation_losses) == 0 or average_validation_loss < min(all_validation_losses):\n",
        "                torch.save(model, '{}.pt'.format(saved_model_name))\n",
        "            all_validation_losses.append(average_validation_loss)\n",
        "            \n",
        "    return all_train_losses, all_validation_losses\n",
        "\n",
        "\n"
      ]
    },
    {
      "cell_type": "markdown",
      "metadata": {
        "id": "S2owEQcjhDNE"
      },
      "source": [
        "### Plotting results\n",
        "----------------\n",
        "\n",
        "Plotting is done with matplotlib, using the array of loss values\n",
        "``plot_losses`` saved while training.\n",
        "\n",
        "\n"
      ]
    },
    {
      "cell_type": "code",
      "execution_count": 21,
      "metadata": {
        "id": "zfUOZwwohDNF"
      },
      "outputs": [],
      "source": [
        "import matplotlib.pyplot as plt\n",
        "import matplotlib.ticker as ticker\n",
        "import numpy as np\n",
        "\n",
        "\n",
        "# modified: rewrote showPlot to show multiple curves in each graph\n",
        "def showPlot(all_train_losses_ls, all_validation_losses_ls, model_names, max_length):\n",
        "    plt.figure()\n",
        "    fig, ax = plt.subplots()\n",
        "    # this locator puts ticks at regular intervals\n",
        "    loc = ticker.MultipleLocator(base=0.2)\n",
        "    ax.yaxis.set_major_locator(loc)\n",
        "    for all_train_losses_i in range(len(all_train_losses_ls)):\n",
        "        plt.plot(all_train_losses_ls[all_train_losses_i])\n",
        "    plt.title('Seq2seq translation (training loss) - MAX_LENGTH={}'.format(max_length))\n",
        "    plt.ylabel('Negative Log Likelihood')\n",
        "    plt.xlabel('# of 1000 iterations')\n",
        "    plt.legend([model_name for model_name in model_names], loc='upper right')\n",
        "\n",
        "    plt.figure()\n",
        "    fig, ax = plt.subplots()\n",
        "    # this locator puts ticks at regular intervals\n",
        "    loc = ticker.MultipleLocator(base=0.2)\n",
        "    ax.yaxis.set_major_locator(loc)\n",
        "    for all_validation_losses_i in range(len(all_validation_losses_ls)):\n",
        "        plt.plot(all_validation_losses_ls[all_validation_losses_i])\n",
        "    plt.title('Seq2seq translation (validation loss) - MAX_LENGTH={}'.format(max_length))\n",
        "    plt.ylabel('Negative Log Likelihood')\n",
        "    plt.xlabel('# of 1000 iterations')\n",
        "    plt.legend([model_name for model_name in model_names], loc='upper right')\n"
      ]
    },
    {
      "cell_type": "markdown",
      "metadata": {
        "id": "OzGQOsVwhDNL"
      },
      "source": [
        "## Evaluation\n",
        "==========\n",
        "\n",
        "Evaluation is mostly the same as training, but there are no targets so\n",
        "we simply feed the decoder's predictions back to itself for each step.\n",
        "Every time it predicts a word we add it to the output string, and if it\n",
        "predicts the EOS token we stop there. We also store the decoder's\n",
        "attention outputs for display later.\n",
        "\n",
        "\n"
      ]
    },
    {
      "cell_type": "code",
      "execution_count": 17,
      "metadata": {
        "id": "TYxnB8xrhDNO"
      },
      "outputs": [],
      "source": [
        "def evaluate(encoder, decoder, sentence, max_length):\n",
        "    with torch.no_grad():\n",
        "        input_tensor = tensorFromSentence(input_lang, sentence)\n",
        "        input_length = input_tensor.size()[0]\n",
        "        encoder_hidden = encoder.initHidden()\n",
        "\n",
        "        encoder_outputs = torch.zeros(max_length, encoder.hidden_size, device=device)\n",
        "\n",
        "        for ei in range(input_length):\n",
        "            encoder_output, encoder_hidden = encoder(input_tensor[ei],\n",
        "                                                     encoder_hidden)\n",
        "            encoder_outputs[ei] += encoder_output[0, 0]\n",
        "\n",
        "        decoder_input = torch.tensor([[SOS_token]], device=device)  # SOS\n",
        "\n",
        "        decoder_hidden = encoder_hidden\n",
        "\n",
        "        decoded_words = []\n",
        "        decoder_attentions = torch.zeros(max_length, max_length)\n",
        "\n",
        "        for di in range(max_length):\n",
        "            decoder_output, decoder_hidden, decoder_attention = decoder(\n",
        "                decoder_input, decoder_hidden, encoder_outputs)\n",
        "            decoder_attentions[di] = decoder_attention.data\n",
        "            topv, topi = decoder_output.data.topk(1)\n",
        "            if topi.item() == EOS_token:\n",
        "                decoded_words.append('<EOS>')\n",
        "                break\n",
        "            else:\n",
        "                decoded_words.append(output_lang.index2word[topi.item()])\n",
        "\n",
        "            decoder_input = topi.squeeze().detach()\n",
        "\n",
        "        return decoded_words, decoder_attentions[:di + 1]"
      ]
    },
    {
      "cell_type": "markdown",
      "source": [
        "# Experiment 1 (MAX_LENGTH = 5)"
      ],
      "metadata": {
        "id": "NZd1IDMUVAQx"
      }
    },
    {
      "cell_type": "markdown",
      "source": [
        "## Preparing Data"
      ],
      "metadata": {
        "id": "zJEoEJ5WVZeP"
      }
    },
    {
      "cell_type": "code",
      "source": [
        "MAX_LENGTH = 5\n",
        "MAX_LENGTH_STRING = '_max_length_{}'.format(MAX_LENGTH)\n",
        "\n",
        "input_lang_max5, output_lang_max5, pairs = prepareData('eng', 'fra', max_length=MAX_LENGTH, reverse=True)\n",
        "random.shuffle(pairs)\n",
        "train_data_max5 = pairs[0:int(math.floor(0.8*len(pairs)))]\n",
        "validation_data_max5 = pairs[int(math.floor(0.8*len(pairs)))+1:int(math.floor(0.9*len(pairs)))]\n",
        "test_data_max5 = pairs[int(math.floor(0.9*len(pairs)))+1:]"
      ],
      "metadata": {
        "colab": {
          "base_uri": "https://localhost:8080/"
        },
        "id": "S7YGyuMEV4rI",
        "outputId": "40bd9f56-aec4-491d-cd9f-c70f15492df5"
      },
      "execution_count": 22,
      "outputs": [
        {
          "output_type": "stream",
          "name": "stdout",
          "text": [
            "Reading lines...\n",
            "Read 135842 sentence pairs\n",
            "Trimmed to 1404 sentence pairs\n",
            "Counting words...\n",
            "Counted words:\n",
            "fra 940\n",
            "eng 466\n"
          ]
        }
      ]
    },
    {
      "cell_type": "markdown",
      "metadata": {
        "id": "Zic9SugY_pOG"
      },
      "source": [
        "## Model 1: Seq2Seq with Attention"
      ]
    },
    {
      "cell_type": "code",
      "execution_count": 23,
      "metadata": {
        "colab": {
          "base_uri": "https://localhost:8080/"
        },
        "outputId": "b565c09e-f453-4013-e8e7-1f41662f69ae",
        "id": "0zVZANbyOk9l"
      },
      "outputs": [
        {
          "output_type": "stream",
          "name": "stdout",
          "text": [
            "\n",
            "Iter \tTrain% \tTime \t\tTrain_loss\n",
            "2000 \t6% \t(0m 29s) \t1.4302\n",
            "4000 \t13% \t(0m 56s) \t1.2226\n",
            "6000 \t20% \t(1m 23s) \t1.1186\n",
            "8000 \t26% \t(1m 49s) \t1.0707\n",
            "10000 \t33% \t(2m 15s) \t0.9969\n",
            "12000 \t40% \t(2m 42s) \t0.9308\n",
            "14000 \t46% \t(3m 10s) \t0.8910\n",
            "16000 \t53% \t(3m 40s) \t0.8168\n",
            "18000 \t60% \t(4m 11s) \t0.7497\n",
            "20000 \t66% \t(4m 44s) \t0.6943\n",
            "22000 \t73% \t(5m 16s) \t0.6410\n",
            "24000 \t80% \t(5m 47s) \t0.5714\n",
            "26000 \t86% \t(6m 16s) \t0.5585\n",
            "28000 \t93% \t(6m 45s) \t0.4913\n",
            "30000 \t100% \t(7m 12s) \t0.4705\n"
          ]
        }
      ],
      "source": [
        "hidden_size = 32\n",
        "input_lang = input_lang_max5\n",
        "output_lang = output_lang_max5\n",
        "\n",
        "encoder = EncoderRNN(input_lang.n_words, hidden_size).to(device)\n",
        "attn_decoder = AttnDecoderRNN(hidden_size, output_lang.n_words, dropout_p=0.1, max_length=MAX_LENGTH).to(device)\n",
        "saved_encoder_name1 = 'seq2seq_translation_encoder_model'\n",
        "saved_decoder_name1 = 'seq2seq_translation_attn_decoder_model'\n",
        "\n",
        "# default: use_attention=True\n",
        "all_train_losses1_max5, all_validation_losses1_max5 = trainIters(encoder, attn_decoder, 30000,\n",
        "                                                                 train_data_max5, validation_data_max5, max_length=MAX_LENGTH,\n",
        "                                                                 input_lang=input_lang, output_lang=output_lang,\n",
        "                                                                 saved_encoder_name=saved_encoder_name1 + MAX_LENGTH_STRING,\n",
        "                                                                 saved_decoder_name=saved_decoder_name1 + MAX_LENGTH_STRING)"
      ]
    },
    {
      "cell_type": "markdown",
      "metadata": {
        "id": "4mqFG7cXERVp"
      },
      "source": [
        "## Model 2: Seq2Seq without Attention"
      ]
    },
    {
      "cell_type": "code",
      "execution_count": 24,
      "metadata": {
        "colab": {
          "base_uri": "https://localhost:8080/"
        },
        "id": "PbMn2f79s5TQ",
        "outputId": "0bd848b2-9a2b-4bde-b4e2-b37bcc089a7f"
      },
      "outputs": [
        {
          "output_type": "stream",
          "name": "stdout",
          "text": [
            "\n",
            "Iter \tTrain% \tTime \t\tTrain_loss\n",
            "2000 \t6% \t(0m 18s) \t1.4198\n",
            "4000 \t13% \t(0m 36s) \t1.2148\n",
            "6000 \t20% \t(0m 55s) \t1.1355\n",
            "8000 \t26% \t(1m 13s) \t1.1020\n",
            "10000 \t33% \t(1m 33s) \t1.0455\n",
            "12000 \t40% \t(1m 51s) \t0.9972\n",
            "14000 \t46% \t(2m 13s) \t0.9464\n",
            "16000 \t53% \t(2m 34s) \t0.8989\n",
            "18000 \t60% \t(2m 52s) \t0.8477\n",
            "20000 \t66% \t(3m 12s) \t0.7910\n",
            "22000 \t73% \t(3m 32s) \t0.7538\n",
            "24000 \t80% \t(3m 50s) \t0.7149\n",
            "26000 \t86% \t(4m 13s) \t0.6844\n",
            "28000 \t93% \t(4m 30s) \t0.6415\n",
            "30000 \t100% \t(4m 48s) \t0.5850\n"
          ]
        }
      ],
      "source": [
        "hidden_size = 32\n",
        "encoder = EncoderRNN(input_lang.n_words, hidden_size).to(device)\n",
        "decoder = DecoderRNN(hidden_size, output_lang.n_words).to(device)\n",
        "saved_encoder_name2 = 'seq2seq_translation_encoder_model_no_attention'\n",
        "saved_decoder_name2 = 'seq2seq_translation_decoder_model_no_attention'\n",
        "\n",
        "# set use_attention to False, set saved_encoder_name and saved_decoder_name\n",
        "all_train_losses2_max5, all_validation_losses2_max5 = trainIters(encoder, decoder, 30000, \n",
        "                                                                 train_data_max5, validation_data_max5, max_length=MAX_LENGTH,\n",
        "                                                                 input_lang=input_lang, output_lang=output_lang,\n",
        "                                                                 use_attention = False, \n",
        "                                                                 saved_encoder_name = saved_encoder_name2 + MAX_LENGTH_STRING,\n",
        "                                                                 saved_decoder_name = saved_decoder_name2 + MAX_LENGTH_STRING)"
      ]
    },
    {
      "cell_type": "markdown",
      "metadata": {
        "id": "RMg40hqqERbO"
      },
      "source": [
        "## Model 3: Transformer"
      ]
    },
    {
      "cell_type": "code",
      "execution_count": 25,
      "metadata": {
        "colab": {
          "base_uri": "https://localhost:8080/"
        },
        "outputId": "23e5025c-335d-4023-db7b-a962c0029077",
        "id": "d8angoYSXFG2"
      },
      "outputs": [
        {
          "output_type": "stream",
          "name": "stdout",
          "text": [
            "\n",
            "Iter \tTrain% \tTime \t\tTrain_loss\n",
            "2000 \t6% \t(0m 36s) \t1.5463\n",
            "4000 \t13% \t(1m 21s) \t1.2726\n",
            "6000 \t20% \t(2m 4s) \t1.2065\n",
            "8000 \t26% \t(2m 52s) \t1.1596\n",
            "10000 \t33% \t(3m 39s) \t1.0901\n",
            "12000 \t40% \t(4m 17s) \t1.0464\n",
            "14000 \t46% \t(4m 57s) \t1.0139\n",
            "16000 \t53% \t(5m 42s) \t0.9096\n",
            "18000 \t60% \t(6m 26s) \t0.8405\n",
            "20000 \t66% \t(7m 10s) \t0.7300\n",
            "22000 \t73% \t(7m 49s) \t0.6553\n",
            "24000 \t80% \t(8m 29s) \t0.6520\n",
            "26000 \t86% \t(9m 8s) \t0.5324\n",
            "28000 \t93% \t(9m 46s) \t0.5132\n",
            "30000 \t100% \t(10m 26s) \t0.4455\n"
          ]
        }
      ],
      "source": [
        "SRC_VOCAB_SIZE = input_lang.n_words\n",
        "TGT_VOCAB_SIZE = output_lang.n_words\n",
        "NHEAD = 8\n",
        "FFN_HID_DIM = 32\n",
        "NUM_ENCODER_LAYERS = 1\n",
        "NUM_DECODER_LAYERS = 1\n",
        "hidden_size = 32\n",
        "\n",
        "transformer = Seq2SeqTransformer(src_vocab_size = input_lang.n_words, tgt_vocab_size = output_lang.n_words,\n",
        "                                 maxlen = MAX_LENGTH, \n",
        "                                 num_encoder_layers = NUM_ENCODER_LAYERS, num_decoder_layers = NUM_DECODER_LAYERS,\n",
        "                                 nhead=NHEAD, emb_size = hidden_size, dim_feedforward = FFN_HID_DIM).to(device)\n",
        "\n",
        "# for p in transformer.parameters():\n",
        "#     if p.dim() > 1:\n",
        "#         nn.init.xavier_uniform_(p)\n",
        "\n",
        "saved_transformer_name = 'transformer_model'\n",
        "\n",
        "# set use_attention to False, set saved_encoder_name and saved_decoder_name\n",
        "all_train_losses3_max5, all_validation_losses3_max5 = trainIters_trans(transformer, 30000, \n",
        "                                                                       train_data_max5, validation_data_max5, max_length=MAX_LENGTH,\n",
        "                                                                       input_lang=input_lang, output_lang=output_lang,\n",
        "                                                                       saved_model_name = saved_transformer_name + MAX_LENGTH_STRING)"
      ]
    },
    {
      "cell_type": "markdown",
      "source": [
        "# Experiment 2 (MAX_LENGTH = 10)"
      ],
      "metadata": {
        "id": "OZFUpuO4VRvi"
      }
    },
    {
      "cell_type": "markdown",
      "source": [
        "## Preparing Data"
      ],
      "metadata": {
        "id": "NpM4mkoKVdMz"
      }
    },
    {
      "cell_type": "code",
      "source": [
        "MAX_LENGTH = 10\n",
        "MAX_LENGTH_STRING = '_max_length_{}'.format(MAX_LENGTH)\n",
        "\n",
        "input_lang_max10, output_lang_max10, pairs = prepareData('eng', 'fra', max_length=MAX_LENGTH, reverse=True)\n",
        "random.shuffle(pairs)\n",
        "train_data_max10 = pairs[0:int(math.floor(0.8*len(pairs)))]\n",
        "validation_data_max10 = pairs[int(math.floor(0.8*len(pairs)))+1:int(math.floor(0.9*len(pairs)))]\n",
        "test_data_max10 = pairs[int(math.floor(0.9*len(pairs)))+1:]"
      ],
      "metadata": {
        "colab": {
          "base_uri": "https://localhost:8080/"
        },
        "id": "e5yIehtGV81A",
        "outputId": "c90433a4-1df5-46ee-e3f4-ee87f060da9e"
      },
      "execution_count": 26,
      "outputs": [
        {
          "output_type": "stream",
          "name": "stdout",
          "text": [
            "Reading lines...\n",
            "Read 135842 sentence pairs\n",
            "Trimmed to 10853 sentence pairs\n",
            "Counting words...\n",
            "Counted words:\n",
            "fra 4489\n",
            "eng 2925\n"
          ]
        }
      ]
    },
    {
      "cell_type": "markdown",
      "metadata": {
        "id": "gAUqvnQrVUg8"
      },
      "source": [
        "## Model 1: Seq2Seq with Attention"
      ]
    },
    {
      "cell_type": "code",
      "execution_count": 27,
      "metadata": {
        "colab": {
          "base_uri": "https://localhost:8080/"
        },
        "outputId": "174a2bda-65d0-46d3-b2af-ffb0921af9e7",
        "id": "GTzRboA8VUg9"
      },
      "outputs": [
        {
          "output_type": "stream",
          "name": "stdout",
          "text": [
            "\n",
            "Iter \tTrain% \tTime \t\tTrain_loss\n",
            "2000 \t6% \t(0m 42s) \t3.0132\n",
            "4000 \t13% \t(1m 31s) \t2.7896\n",
            "6000 \t20% \t(2m 19s) \t2.6340\n",
            "8000 \t26% \t(3m 10s) \t2.6156\n",
            "10000 \t33% \t(4m 0s) \t2.5068\n",
            "12000 \t40% \t(4m 47s) \t2.4163\n",
            "14000 \t46% \t(5m 38s) \t2.3973\n",
            "16000 \t53% \t(6m 30s) \t2.3214\n",
            "18000 \t60% \t(7m 22s) \t2.2719\n",
            "20000 \t66% \t(8m 14s) \t2.2192\n",
            "22000 \t73% \t(9m 7s) \t2.2100\n",
            "24000 \t80% \t(9m 58s) \t2.1721\n",
            "26000 \t86% \t(10m 46s) \t2.1729\n",
            "28000 \t93% \t(11m 32s) \t2.1138\n",
            "30000 \t100% \t(12m 19s) \t2.1242\n"
          ]
        }
      ],
      "source": [
        "hidden_size = 32\n",
        "input_lang = input_lang_max10\n",
        "output_lang = output_lang_max10\n",
        "\n",
        "encoder = EncoderRNN(input_lang.n_words, hidden_size).to(device)\n",
        "attn_decoder = AttnDecoderRNN(hidden_size, output_lang.n_words, dropout_p=0.1, max_length=MAX_LENGTH).to(device)\n",
        "\n",
        "all_train_losses1_max10, all_validation_losses1_max10 = trainIters(encoder, attn_decoder, 30000,\n",
        "                                                                   train_data_max10, validation_data_max10, max_length=MAX_LENGTH,\n",
        "                                                                   input_lang=input_lang, output_lang=output_lang,\n",
        "                                                                   saved_encoder_name=saved_encoder_name1 + MAX_LENGTH_STRING,\n",
        "                                                                   saved_decoder_name=saved_decoder_name1 + MAX_LENGTH_STRING)"
      ]
    },
    {
      "cell_type": "markdown",
      "metadata": {
        "id": "ulWC0meiVUg9"
      },
      "source": [
        "## Model 2: Seq2Seq without Attention"
      ]
    },
    {
      "cell_type": "code",
      "execution_count": 28,
      "metadata": {
        "colab": {
          "base_uri": "https://localhost:8080/"
        },
        "outputId": "f61bd396-bb25-4f79-9e38-65a9e980840a",
        "id": "h0owR3MjVUg9"
      },
      "outputs": [
        {
          "output_type": "stream",
          "name": "stdout",
          "text": [
            "\n",
            "Iter \tTrain% \tTime \t\tTrain_loss\n",
            "2000 \t6% \t(0m 26s) \t3.1364\n",
            "4000 \t13% \t(0m 55s) \t2.8627\n",
            "6000 \t20% \t(1m 25s) \t2.6507\n",
            "8000 \t26% \t(1m 56s) \t2.7466\n",
            "10000 \t33% \t(2m 28s) \t2.6498\n",
            "12000 \t40% \t(3m 3s) \t2.6086\n",
            "14000 \t46% \t(3m 36s) \t2.5957\n",
            "16000 \t53% \t(4m 9s) \t2.5364\n",
            "18000 \t60% \t(4m 41s) \t2.5068\n",
            "20000 \t66% \t(5m 15s) \t2.4480\n",
            "22000 \t73% \t(5m 47s) \t2.4924\n",
            "24000 \t80% \t(6m 25s) \t2.3732\n",
            "26000 \t86% \t(6m 58s) \t2.3732\n",
            "28000 \t93% \t(7m 32s) \t2.3475\n",
            "30000 \t100% \t(8m 5s) \t2.2887\n"
          ]
        }
      ],
      "source": [
        "hidden_size = 32\n",
        "encoder = EncoderRNN(input_lang.n_words, hidden_size).to(device)\n",
        "decoder = DecoderRNN(hidden_size, output_lang.n_words).to(device)\n",
        "\n",
        "all_train_losses2_max10, all_validation_losses2_max10 = trainIters(encoder, decoder, 30000, \n",
        "                                                                   train_data_max10, validation_data_max10, max_length=MAX_LENGTH,\n",
        "                                                                   input_lang=input_lang, output_lang=output_lang,\n",
        "                                                                   use_attention = False, \n",
        "                                                                   saved_encoder_name = saved_encoder_name2 + MAX_LENGTH_STRING,\n",
        "                                                                   saved_decoder_name = saved_decoder_name2 + MAX_LENGTH_STRING)"
      ]
    },
    {
      "cell_type": "markdown",
      "metadata": {
        "id": "MvDqsjmBVUg-"
      },
      "source": [
        "## Model 3: Transformer"
      ]
    },
    {
      "cell_type": "code",
      "source": [
        "SRC_VOCAB_SIZE = input_lang.n_words\n",
        "TGT_VOCAB_SIZE = output_lang.n_words\n",
        "NHEAD = 8\n",
        "FFN_HID_DIM = 32\n",
        "NUM_ENCODER_LAYERS = 1\n",
        "NUM_DECODER_LAYERS = 1\n",
        "hidden_size = 32\n",
        "\n",
        "transformer = Seq2SeqTransformer(src_vocab_size = input_lang.n_words, tgt_vocab_size = output_lang.n_words,\n",
        "                                 maxlen = MAX_LENGTH, \n",
        "                                 num_encoder_layers = NUM_ENCODER_LAYERS, num_decoder_layers = NUM_DECODER_LAYERS,\n",
        "                                 nhead=NHEAD, emb_size = hidden_size, dim_feedforward = FFN_HID_DIM).to(device)\n",
        "\n",
        "# for p in transformer.parameters():\n",
        "#     if p.dim() > 1:\n",
        "#         nn.init.xavier_uniform_(p)\n",
        "\n",
        "saved_transformer_name = 'transformer_model'\n",
        "\n",
        "# set use_attention to False, set saved_encoder_name and saved_decoder_name\n",
        "all_train_losses3_max10, all_validation_losses3_max10 = trainIters_trans(transformer, 30000, \n",
        "                                                                       train_data_max10, validation_data_max10, max_length=MAX_LENGTH,\n",
        "                                                                       input_lang=input_lang, output_lang=output_lang,\n",
        "                                                                       saved_model_name = saved_transformer_name + MAX_LENGTH_STRING)"
      ],
      "metadata": {
        "colab": {
          "base_uri": "https://localhost:8080/"
        },
        "id": "2fBms2Fi9P70",
        "outputId": "57f341d6-f5d5-4122-a379-0306c2735d35"
      },
      "execution_count": 29,
      "outputs": [
        {
          "output_type": "stream",
          "name": "stdout",
          "text": [
            "\n",
            "Iter \tTrain% \tTime \t\tTrain_loss\n",
            "2000 \t6% \t(0m 51s) \t3.1689\n",
            "4000 \t13% \t(1m 57s) \t2.8560\n",
            "6000 \t20% \t(3m 4s) \t2.7502\n",
            "8000 \t26% \t(4m 13s) \t2.7027\n",
            "10000 \t33% \t(5m 29s) \t2.7023\n",
            "12000 \t40% \t(6m 53s) \t2.6204\n",
            "14000 \t46% \t(8m 19s) \t2.5640\n",
            "16000 \t53% \t(9m 32s) \t2.5261\n",
            "18000 \t60% \t(10m 49s) \t2.4970\n",
            "20000 \t66% \t(12m 2s) \t2.4548\n",
            "22000 \t73% \t(13m 14s) \t2.4828\n",
            "24000 \t80% \t(14m 23s) \t2.4733\n",
            "26000 \t86% \t(15m 31s) \t2.4682\n",
            "28000 \t93% \t(16m 37s) \t2.3959\n",
            "30000 \t100% \t(17m 45s) \t2.3873\n"
          ]
        }
      ]
    },
    {
      "cell_type": "markdown",
      "metadata": {
        "id": "YPacmU6REgvr"
      },
      "source": [
        "# Results"
      ]
    },
    {
      "cell_type": "markdown",
      "metadata": {
        "id": "fg09Ith6aAqn"
      },
      "source": [
        "## Training Loss & Validation Loss Graphs, Test Loss"
      ]
    },
    {
      "cell_type": "code",
      "execution_count": 30,
      "metadata": {
        "id": "FVeMOxH0suUI",
        "colab": {
          "base_uri": "https://localhost:8080/",
          "height": 1000
        },
        "outputId": "2cde2274-7d6c-4428-90f4-3b2301158b66"
      },
      "outputs": [
        {
          "output_type": "stream",
          "name": "stdout",
          "text": [
            "Average test loss (MAX_LENGTH = 5): \n",
            "  Seq2Seq with Attention: 1.3457122656277252\n",
            "  Seq2Seq without Attention: 1.3406227823666164\n",
            "  Transformer: 1.4452030794961113\n",
            "\n",
            "Average test loss (MAX_LENGTH = 10): \n",
            "  Seq2Seq with Attention: 2.5974150742323707\n",
            "  Seq2Seq without Attention: 2.6884749752395107\n",
            "  Transformer: 2.5481647825418947\n"
          ]
        },
        {
          "output_type": "display_data",
          "data": {
            "text/plain": [
              "<Figure size 432x288 with 0 Axes>"
            ]
          },
          "metadata": {}
        },
        {
          "output_type": "display_data",
          "data": {
            "text/plain": [
              "<Figure size 432x288 with 1 Axes>"
            ],
            "image/png": "[encoded data removed]"
          },
          "metadata": {
            "needs_background": "light"
          }
        },
        {
          "output_type": "display_data",
          "data": {
            "text/plain": [
              "<Figure size 432x288 with 0 Axes>"
            ]
          },
          "metadata": {}
        },
        {
          "output_type": "display_data",
          "data": {
            "text/plain": [
              "<Figure size 432x288 with 1 Axes>"
            ],
            "image/png": "[encoded data removed]"
          },
          "metadata": {
            "needs_background": "light"
          }
        },
        {
          "output_type": "display_data",
          "data": {
            "text/plain": [
              "<Figure size 432x288 with 0 Axes>"
            ]
          },
          "metadata": {}
        },
        {
          "output_type": "display_data",
          "data": {
            "text/plain": [
              "<Figure size 432x288 with 1 Axes>"
            ],
            "image/png": "[encoded data removed]"
          },
          "metadata": {
            "needs_background": "light"
          }
        },
        {
          "output_type": "display_data",
          "data": {
            "text/plain": [
              "<Figure size 432x288 with 0 Axes>"
            ]
          },
          "metadata": {}
        },
        {
          "output_type": "display_data",
          "data": {
            "text/plain": [
              "<Figure size 432x288 with 1 Axes>"
            ],
            "image/png": "[encoded data removed]"
          },
          "metadata": {
            "needs_background": "light"
          }
        }
      ],
      "source": [
        "model_names = [\"Seq2Seq with Attention\", \"Seq2Seq without Attention\", \"Transformer\"]\n",
        "\n",
        "############### Training Loss & Validation Loss Graphs ###############\n",
        "## MAX_LENGTH = 5\n",
        "all_train_losses_ls_max5 = [all_train_losses1_max5, all_train_losses2_max5, all_train_losses3_max5]\n",
        "all_validation_losses_ls_max5 = [all_validation_losses1_max5, all_validation_losses2_max5, all_validation_losses3_max5]\n",
        "showPlot(all_train_losses_ls_max5, all_validation_losses_ls_max5, model_names, max_length=5)\n",
        "\n",
        "## MAX_LENGTH = 10\n",
        "all_train_losses_ls_max10 = [all_train_losses1_max10, all_train_losses2_max10, all_train_losses3_max10]\n",
        "all_validation_losses_ls_max10 = [all_validation_losses1_max10, all_validation_losses2_max10, all_validation_losses3_max10]\n",
        "showPlot(all_train_losses_ls_max10, all_validation_losses_ls_max10, model_names, max_length=10)\n",
        "\n",
        "############### evaluate on test set and print average test loss ###############\n",
        "## MAX_LENGTH = 5\n",
        "MAX_LENGTH=5\n",
        "MAX_LENGTH_STRING = '_max_length_{}'.format(MAX_LENGTH)\n",
        "input_lang = input_lang_max5\n",
        "output_lang = output_lang_max5\n",
        "\n",
        "print(\"Average test loss (MAX_LENGTH = 5): \")\n",
        "\n",
        "# Model 1: Seq2Seq with Attention\n",
        "encoder = torch.load('{}.pt'.format(saved_encoder_name1 + MAX_LENGTH_STRING))\n",
        "decoder = torch.load('{}.pt'.format(saved_decoder_name1 + MAX_LENGTH_STRING))\n",
        "average_test_loss = eval_dataset(test_data_max5, encoder, decoder, nn.NLLLoss(), \n",
        "                                 input_lang=input_lang, output_lang=output_lang,\n",
        "                                 max_length=MAX_LENGTH)\n",
        "print(('  {}: ' + str(average_test_loss)).format(model_names[0]))\n",
        "\n",
        "# Model 2: Seq2Seq without Attention\n",
        "encoder = torch.load('{}.pt'.format(saved_encoder_name2 + MAX_LENGTH_STRING))\n",
        "decoder = torch.load('{}.pt'.format(saved_decoder_name2 + MAX_LENGTH_STRING))\n",
        "average_test_loss = eval_dataset(test_data_max5, encoder, decoder, nn.NLLLoss(),  \n",
        "                                 input_lang=input_lang, output_lang=output_lang,\n",
        "                                 max_length=MAX_LENGTH, use_attention=False) # no attention used\n",
        "print(('  {}: ' + str(average_test_loss)).format(model_names[1]))\n",
        "\n",
        "# Model 3: Transformer\n",
        "transformer = torch.load('{}.pt'.format(saved_transformer_name + MAX_LENGTH_STRING))\n",
        "average_test_loss = eval_dataset_trans(test_data_max5, transformer, nn.NLLLoss(),  \n",
        "                                      input_lang=input_lang, output_lang=output_lang,\n",
        "                                      max_length=MAX_LENGTH)\n",
        "print(('  {}: ' + str(average_test_loss)).format(model_names[2]))\n",
        "\n",
        "## MAX_LENGTH = 10\n",
        "MAX_LENGTH=10\n",
        "MAX_LENGTH_STRING = '_max_length_{}'.format(MAX_LENGTH)\n",
        "input_lang = input_lang_max10\n",
        "output_lang = output_lang_max10\n",
        "\n",
        "print(\"\\nAverage test loss (MAX_LENGTH = 10): \")\n",
        "\n",
        "# Model 1: Seq2Seq with Attention\n",
        "encoder = torch.load('{}.pt'.format(saved_encoder_name1 + MAX_LENGTH_STRING))\n",
        "decoder = torch.load('{}.pt'.format(saved_decoder_name1 + MAX_LENGTH_STRING))\n",
        "average_test_loss = eval_dataset(test_data_max10, encoder, decoder, nn.NLLLoss(), \n",
        "                                 input_lang=input_lang, output_lang=output_lang,\n",
        "                                 max_length=MAX_LENGTH)\n",
        "print(('  {}: ' + str(average_test_loss)).format(model_names[0]))\n",
        "\n",
        "# Model 2: Seq2Seq without Attention\n",
        "encoder = torch.load('{}.pt'.format(saved_encoder_name2 + MAX_LENGTH_STRING))\n",
        "decoder = torch.load('{}.pt'.format(saved_decoder_name2 + MAX_LENGTH_STRING))\n",
        "average_test_loss = eval_dataset(test_data_max10, encoder, decoder, nn.NLLLoss(),  \n",
        "                                 input_lang=input_lang, output_lang=output_lang,\n",
        "                                 max_length=MAX_LENGTH, use_attention=False) # no attention used\n",
        "print(('  {}: ' + str(average_test_loss)).format(model_names[1]))\n",
        "\n",
        "# Model 3: Transformer\n",
        "transformer = torch.load('{}.pt'.format(saved_transformer_name + MAX_LENGTH_STRING))\n",
        "average_test_loss = eval_dataset_trans(test_data_max10, transformer, nn.NLLLoss(),  \n",
        "                                       input_lang=input_lang, output_lang=output_lang,\n",
        "                                       max_length=MAX_LENGTH) \n",
        "print(('  {}: ' + str(average_test_loss)).format(model_names[2]))\n"
      ]
    },
    {
      "cell_type": "markdown",
      "metadata": {
        "id": "UzUA4eEQ2Odr"
      },
      "source": [
        "## Explanation\n",
        "\n",
        "Based on the average test loss, we see that:\n",
        "- MAX_LENGTH = 5: The Seq2Seq without attention model performed the best, followed by the Seq2Seq with attention and the transformer. Note that the performance of the Seq2Seq without attention is similar (only slightly better) compared to the one with attention, since the benefit of using attention for shorter sentences is less obvious.\n",
        "- MAX_LENGTH = 10: The transformer performed the best, followed by Seq2Seq with attention and Seq2Seq without attention.\n",
        "\n",
        "From smallest to largest, we also see:\n",
        "\n",
        "*MAX_LENGTH = 5:*\n",
        "- Lowest training loss (out of all epochs): Transformer < Seq2Seq with attention < Seq2Seq without attention.\n",
        "- Lowest validation loss (out of all epochs): Seq2Seq without attention < Seq2Seq with attention < Transformer.\n",
        "  - Looking at how the validation loss is increasing with the number of epoch, this seems to suggest overfitting in all 3 models.\n",
        "\n",
        "*MAX_LENGTH = 10:*\n",
        "- Lowest training loss (out of all epochs): Seq2Seq with attention < Seq2Seq without attention < Transformer.\n",
        "- Lowest validation loss (out of all epochs): Transformer < Seq2Seq with attention < Seq2Seq without attention.\n",
        "\n",
        "**Architecture: RNN vs Transformer**\n",
        "\n",
        "There are several challenges that come with the RNN architecture:\n",
        "- Gradient vanishing and explosion: if the gradient is a product of factors less than (or more than) 1, the gradient gets increasingly smaller (or larger) as the product gets longer, leading to gradient vanishing (or explosion).\n",
        "- Long range dependencies: loss of information when taking in very long input sequences (due to the forgetting property).\n",
        "- Recurrence prevents parallel computation: need to compute sequentially.\n",
        "- Requires more training steps: it takes longer to optimize as the recurrent structure leads to many interdependencies.\n",
        "\n",
        "The transformer architecture mitigates the challenges outlined above:\n",
        "- No gradient vanishing and explosion: the transformer network tends to be shallower, and the use of layer normalization prevents any numerical value from blowing up or vanishing to 0. \n",
        "- Facilitate long range dependencies due to a shallower network (compared to RNNs).\n",
        "- Facilitates parallel computation: there is no recurrence between time steps, causing computation to be independent of sequence length.\n",
        "- Fewer training steps: leads to better scalability.\n",
        "\n",
        "In theory, the transformer generally performs better when compared to the Seq2Seq models (which is based on the RNN architecture), and even more so with longer input sequences (i.e. MAX_LENGTH=10 vs MAX_LENGTH = 5). In our case, it aligns with the theory when MAX_LENGTH = 10, but not for MAX_LENGTH = 5. Perhaps tweaking with the transformer parameters will lead to a better performance for shorter sentences.\n",
        "\n",
        "**Attention:**\n",
        "\n",
        "Attention is a mechanism that tries to align each output word with relevant input words by computing a softmax of the inputs. The use of attention is especially important when taking in very long input sequences, as it allows the network to \"refer\" back to the input sequence and focus on relevant words at each time step. This helps to somewhat mitigate the forgetting property in RNNs. As such, the Seq2Seq with attention has a better performance than the the Seq2Seq without attention, even more so with longer input sequences (i.e. MAX_LENGTH=10 vs MAX_LENGTH = 5). Note that in our case, both models have similar performances with MAX_LENGTH = 5.\n",
        "\n",
        "\n",
        "\n",
        "\n",
        "\n",
        "\n"
      ]
    }
  ],
  "metadata": {
    "accelerator": "GPU",
    "colab": {
      "provenance": [],
      "toc_visible": true
    },
    "gpuClass": "standard",
    "kernelspec": {
      "display_name": "Python 3",
      "name": "python3"
    },
    "language_info": {
      "codemirror_mode": {
        "name": "ipython",
        "version": 3
      },
      "file_extension": ".py",
      "mimetype": "text/x-python",
      "name": "python",
      "nbconvert_exporter": "python",
      "pygments_lexer": "ipython3",
      "version": "3.6.6"
    }
  },
  "nbformat": 4,
  "nbformat_minor": 0
}